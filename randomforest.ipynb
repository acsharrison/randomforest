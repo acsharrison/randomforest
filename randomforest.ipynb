{
 "cells": [
  {
   "cell_type": "code",
   "execution_count": 1,
   "metadata": {},
   "outputs": [],
   "source": [
    "import pandas as pd\n",
    "import numpy as np\n",
    "import matplotlib.pyplot as plt\n",
    "from sklearn.model_selection import train_test_split\n",
    "from sklearn.ensemble import RandomForestClassifier\n",
    "from sklearn.metrics import accuracy_score, classification_report, confusion_matrix\n"
   ]
  },
  {
   "cell_type": "code",
   "execution_count": 2,
   "metadata": {},
   "outputs": [
    {
     "name": "stdout",
     "output_type": "stream",
     "text": [
      "Failed with encoding utf-8. Trying the next one.\n",
      "  Countries and areas  Latitude   Longitude  OOSR_Pre0Primary_Age_Male  \\\n",
      "0         Afghanistan  33.939110  67.709953                          0   \n",
      "1             Albania  41.153332  20.168331                          4   \n",
      "2             Algeria  28.033886   1.659626                          0   \n",
      "3             Andorra  42.506285   1.521801                          0   \n",
      "4              Angola  11.202692  17.873887                         31   \n",
      "\n",
      "   OOSR_Pre0Primary_Age_Female  OOSR_Primary_Age_Male  \\\n",
      "0                            0                      0   \n",
      "1                            2                      6   \n",
      "2                            0                      0   \n",
      "3                            0                      0   \n",
      "4                           39                      0   \n",
      "\n",
      "   OOSR_Primary_Age_Female  OOSR_Lower_Secondary_Age_Male  \\\n",
      "0                        0                              0   \n",
      "1                        3                              6   \n",
      "2                        0                              0   \n",
      "3                        0                              0   \n",
      "4                        0                              0   \n",
      "\n",
      "   OOSR_Lower_Secondary_Age_Female  OOSR_Upper_Secondary_Age_Male  ...  \\\n",
      "0                                0                             44  ...   \n",
      "1                                1                             21  ...   \n",
      "2                                0                              0  ...   \n",
      "3                                0                              0  ...   \n",
      "4                                0                              0  ...   \n",
      "\n",
      "   Primary_End_Proficiency_Reading  Primary_End_Proficiency_Math  \\\n",
      "0                               13                            11   \n",
      "1                                0                             0   \n",
      "2                                0                             0   \n",
      "3                                0                             0   \n",
      "4                                0                             0   \n",
      "\n",
      "   Lower_Secondary_End_Proficiency_Reading  \\\n",
      "0                                        0   \n",
      "1                                       48   \n",
      "2                                       21   \n",
      "3                                        0   \n",
      "4                                        0   \n",
      "\n",
      "   Lower_Secondary_End_Proficiency_Math  Youth_15_24_Literacy_Rate_Male  \\\n",
      "0                                     0                              74   \n",
      "1                                    58                              99   \n",
      "2                                    19                              98   \n",
      "3                                     0                               0   \n",
      "4                                     0                               0   \n",
      "\n",
      "   Youth_15_24_Literacy_Rate_Female  Birth_Rate  \\\n",
      "0                                56       32.49   \n",
      "1                               100       11.78   \n",
      "2                                97       24.28   \n",
      "3                                 0        7.20   \n",
      "4                                 0       40.73   \n",
      "\n",
      "   Gross_Primary_Education_Enrollment  Gross_Tertiary_Education_Enrollment  \\\n",
      "0                               104.0                                  9.7   \n",
      "1                               107.0                                 55.0   \n",
      "2                               109.9                                 51.4   \n",
      "3                               106.4                                  0.0   \n",
      "4                               113.5                                  9.3   \n",
      "\n",
      "   Unemployment_Rate  \n",
      "0              11.12  \n",
      "1              12.33  \n",
      "2              11.70  \n",
      "3               0.00  \n",
      "4               6.89  \n",
      "\n",
      "[5 rows x 29 columns]\n"
     ]
    }
   ],
   "source": [
    "encodings_to_try = ['utf-8', 'latin1', 'ISO-8859-1']\n",
    "for encoding in encodings_to_try:\n",
    "    try:\n",
    "        globaled = pd.read_csv(\"Global_Education.csv\", encoding=encoding)\n",
    "        break \n",
    "    except UnicodeDecodeError:\n",
    "        print(f\"Failed with encoding {encoding}. Trying the next one.\")\n",
    "print(globaled.head())"
   ]
  },
  {
   "cell_type": "code",
   "execution_count": 3,
   "metadata": {},
   "outputs": [],
   "source": [
    "features = ['Latitude', 'Longitude', 'OOSR_Pre0Primary_Age_Male', 'OOSR_Pre0Primary_Age_Female', 'OOSR_Primary_Age_Male', 'OOSR_Primary_Age_Female', 'OOSR_Lower_Secondary_Age_Male', 'OOSR_Lower_Secondary_Age_Female', 'OOSR_Upper_Secondary_Age_Male', 'OOSR_Upper_Secondary_Age_Female', 'Completion_Rate_Primary_Male', 'Completion_Rate_Primary_Female', 'Completion_Rate_Lower_Secondary_Male', 'Completion_Rate_Lower_Secondary_Female', 'Completion_Rate_Upper_Secondary_Male', 'Completion_Rate_Upper_Secondary_Female', 'Grade_2_3_Proficiency_Reading', 'Grade_2_3_Proficiency_Math', 'Primary_End_Proficiency_Reading', 'Primary_End_Proficiency_Math', 'Lower_Secondary_End_Proficiency_Reading', 'Lower_Secondary_End_Proficiency_Math', 'Youth_15_24_Literacy_Rate_Male', 'Youth_15_24_Literacy_Rate_Female', 'Birth_Rate', 'Gross_Primary_Education_Enrollment', 'Gross_Tertiary_Education_Enrollment', 'Unemployment_Rate']\n"
   ]
  },
  {
   "cell_type": "code",
   "execution_count": 4,
   "metadata": {},
   "outputs": [
    {
     "ename": "NameError",
     "evalue": "name 'X' is not defined",
     "output_type": "error",
     "traceback": [
      "\u001b[0;31m---------------------------------------------------------------------------\u001b[0m",
      "\u001b[0;31mNameError\u001b[0m                                 Traceback (most recent call last)",
      "Cell \u001b[0;32mIn[4], line 1\u001b[0m\n\u001b[0;32m----> 1\u001b[0m X \u001b[38;5;241m=\u001b[39m pd\u001b[38;5;241m.\u001b[39mget_dummies(\u001b[43mX\u001b[49m)\n",
      "\u001b[0;31mNameError\u001b[0m: name 'X' is not defined"
     ]
    }
   ],
   "source": [
    "X = pd.get_dummies(X)"
   ]
  },
  {
   "cell_type": "code",
   "execution_count": null,
   "metadata": {},
   "outputs": [],
   "source": [
    "X_train, X_test, y_train, y_test = train_test_split(X, y, test_size=0.25, random_state=42)"
   ]
  },
  {
   "cell_type": "code",
   "execution_count": null,
   "metadata": {},
   "outputs": [],
   "source": [
    "rf_classifier = RandomForestClassifier(n_estimators=100, random_state=42)"
   ]
  },
  {
   "cell_type": "code",
   "execution_count": null,
   "metadata": {},
   "outputs": [],
   "source": [
    "rf_classifier.fit(X_train, y_train)"
   ]
  },
  {
   "cell_type": "code",
   "execution_count": null,
   "metadata": {},
   "outputs": [],
   "source": [
    "predictions = rf_classifier.predict(X_test)"
   ]
  },
  {
   "cell_type": "code",
   "execution_count": null,
   "metadata": {},
   "outputs": [],
   "source": [
    "accuracy = accuracy_score(y_test, predictions)\n",
    "conf_matrix = confusion_matrix(y_test, predictions)\n",
    "classification_rep = classification_report(y_test, predictions)\n"
   ]
  },
  {
   "cell_type": "code",
   "execution_count": null,
   "metadata": {},
   "outputs": [],
   "source": [
    "print(f'Accuracy: {accuracy:.2f}')\n",
    "print('\\nConfusion Matrix:')\n",
    "print(conf_matrix)\n",
    "print('\\nClassification Report:')\n",
    "print(classification_rep)"
   ]
  },
  {
   "cell_type": "code",
   "execution_count": null,
   "metadata": {},
   "outputs": [],
   "source": [
    "feature_importances = rf_classifier.feature_importances_\n",
    "feature_importance_df = pd.DataFrame({'Feature': X.columns, 'Importance': feature_importances})\n",
    "feature_importance_df = feature_importance_df.sort_values(by='Importance', ascending=False)"
   ]
  },
  {
   "cell_type": "code",
   "execution_count": null,
   "metadata": {},
   "outputs": [],
   "source": [
    "plt.figure(figsize=(10, 6))\n",
    "plt.bar(feature_importance_df['Feature'], feature_importance_df['Importance'])\n",
    "plt.xlabel('Feature')\n",
    "plt.ylabel('Importance')\n",
    "plt.title('Feature Importances')\n",
    "plt.xticks(rotation=45, ha='right')\n",
    "plt.show()"
   ]
  },
  {
   "cell_type": "code",
   "execution_count": null,
   "metadata": {},
   "outputs": [],
   "source": [
    "from sklearn.tree import export_text"
   ]
  },
  {
   "cell_type": "code",
   "execution_count": null,
   "metadata": {},
   "outputs": [],
   "source": [
    "for tree_id in range(3):\n",
    "    tree_rules = export_text(rf_classifier.estimators_[tree_id], feature_names=list(X.columns))\n",
    "    print(f\"Decision Tree {tree_id + 1}:\\n{tree_rules}\\n\")\n"
   ]
  },
  {
   "cell_type": "code",
   "execution_count": null,
   "metadata": {},
   "outputs": [],
   "source": [
    "class_balance = airstrike['DAMAGE_LEVEL'].value_counts()\n",
    "print(\"Class Balance:\")\n",
    "print(class_balance)\n"
   ]
  },
  {
   "cell_type": "code",
   "execution_count": null,
   "metadata": {},
   "outputs": [],
   "source": [
    "param_grid = {\n",
    "    'n_estimators': [50, 100, 150],\n",
    "    'max_depth': [None, 10, 20],\n",
    "    # Add other hyperparameters to tune\n",
    "}"
   ]
  },
  {
   "cell_type": "code",
   "execution_count": null,
   "metadata": {},
   "outputs": [],
   "source": [
    "# Grid Search for Hyperparameter Tuning\n",
    "# from sklearn.model_selection import GridSearchCV\n",
    "# grid_search = GridSearchCV(RandomForestClassifier(random_state=42), param_grid, cv=5)\n",
    "# grid_search.fit(X_train, y_train)\n",
    "# best_params = grid_search.best_params_\n",
    "# print(\"Best Hyperparameters:\", best_params)\n"
   ]
  },
  {
   "cell_type": "code",
   "execution_count": null,
   "metadata": {},
   "outputs": [],
   "source": [
    "# Improved Random Forest Classifier\n",
    "rf_classifier = RandomForestClassifier(n_estimators=100, max_depth=None, random_state=42)\n",
    "rf_classifier.fit(X_train, y_train)"
   ]
  },
  {
   "cell_type": "code",
   "execution_count": null,
   "metadata": {},
   "outputs": [],
   "source": [
    "# Cross-validation\n",
    "from sklearn.model_selection import cross_val_score\n",
    "cross_val_scores = cross_val_score(rf_classifier, X_train, y_train, cv=5)\n",
    "print(\"Cross-validation Scores:\", cross_val_scores)\n"
   ]
  },
  {
   "cell_type": "code",
   "execution_count": null,
   "metadata": {},
   "outputs": [],
   "source": [
    "# Visualize Decision Tree\n",
    "from sklearn.tree import export_graphviz\n",
    "import graphviz"
   ]
  },
  {
   "cell_type": "code",
   "execution_count": null,
   "metadata": {},
   "outputs": [],
   "source": [
    "# Choose a tree to visualize (e.g., the first tree)\n",
    "tree_to_visualize = rf_classifier.estimators_[0]"
   ]
  },
  {
   "cell_type": "code",
   "execution_count": null,
   "metadata": {},
   "outputs": [],
   "source": [
    "# Export as dot file\n",
    "dot_data = export_graphviz(tree_to_visualize, out_file=None, feature_names=list(X.columns), class_names=list(map(str, y.unique())), filled=True, rounded=True)"
   ]
  },
  {
   "cell_type": "code",
   "execution_count": null,
   "metadata": {},
   "outputs": [],
   "source": [
    "# Visualize the graph\n",
    "graph = graphviz.Source(dot_data)\n",
    "graph.render(\"decision_tree\")\n",
    "graph.view(\"decision_tree\")"
   ]
  }
 ],
 "metadata": {
  "kernelspec": {
   "display_name": "Python 3 (ipykernel)",
   "language": "python",
   "name": "python3"
  },
  "language_info": {
   "codemirror_mode": {
    "name": "ipython",
    "version": 3
   },
   "file_extension": ".py",
   "mimetype": "text/x-python",
   "name": "python",
   "nbconvert_exporter": "python",
   "pygments_lexer": "ipython3",
   "version": "3.10.12"
  }
 },
 "nbformat": 4,
 "nbformat_minor": 4
}
